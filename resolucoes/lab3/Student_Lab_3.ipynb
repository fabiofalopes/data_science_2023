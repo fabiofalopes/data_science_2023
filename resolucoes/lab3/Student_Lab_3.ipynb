{
 "cells": [
  {
   "cell_type": "markdown",
   "metadata": {
    "id": "sbKevdjUu4Lj"
   },
   "source": [
    "# Practical Lab: Week 3\n",
    "\n",
    "Note: This practical session is based on the exercises in section 2.4 (Applied) of the module's book."
   ]
  },
  {
   "cell_type": "markdown",
   "metadata": {
    "id": "inuv0FJ_u4Ll"
   },
   "source": [
    "## Part I: The college dataset"
   ]
  },
  {
   "cell_type": "markdown",
   "metadata": {
    "id": "3fDF9cfHu4Lm"
   },
   "source": [
    "1. Import `Pandas`\n",
    "2. From the Moodle page (week 3, lab) get the `College.csv` CSV file and put it in the same folder where you saved your Jupyter notebook\n",
    "3. Read the CSV file as a variable called `college`\n",
    "4. Inspect the contents of the dataframe by using the `head()` method from `Pandas`"
   ]
  },
  {
   "cell_type": "code",
   "execution_count": 1,
   "metadata": {
    "id": "MyvxUJAVu4Ln",
    "ExecuteTime": {
     "end_time": "2023-10-16T19:07:31.508256277Z",
     "start_time": "2023-10-16T19:07:30.914188261Z"
    }
   },
   "outputs": [],
   "source": [
    "import pandas as pd"
   ]
  },
  {
   "cell_type": "markdown",
   "metadata": {
    "id": "QUoPXMx_u4Lq"
   },
   "source": [
    "6. Is this a _rectangular_ data structure? If so, What entities are represented in the rows?"
   ]
  },
  {
   "cell_type": "code",
   "execution_count": 2,
   "metadata": {
    "id": "pSgr0S5beDvj",
    "ExecuteTime": {
     "end_time": "2023-10-16T19:11:37.348528743Z",
     "start_time": "2023-10-16T19:11:37.277814581Z"
    }
   },
   "outputs": [],
   "source": [
    "college = pd.read_csv('College.csv')"
   ]
  },
  {
   "cell_type": "markdown",
   "metadata": {
    "id": "ybX9wQodu4Lr"
   },
   "source": [
    "The column variables refer to the following information:\n",
    "\n",
    "- **Private** : Public/private indicator\n",
    "- **Apps** : Number of applications received\n",
    "- **Accept** : Number of applicants accepted\n",
    "- **Enroll** : Number of new students enrolled\n",
    "- **Top10perc** : New students from top 10 % of high school class\n",
    "- **Top25perc** : New students from top 25 % of high school class\n",
    "- **F.Undergrad** : Number of full-time undergraduates\n",
    "- **P.Undergrad** : Number of part-time undergraduates\n",
    "- **Outstate** : Out-of-state tuition\n",
    "- **Room.Board** : Room and board costs\n",
    "- **Books** : Estimated book costs\n",
    "- **Personal** : Estimated personal spending\n",
    "- **PhD** : Percent of faculty with Ph.D.s\n",
    "- **bold text**Terminal : Percent of faculty with terminal degree\n",
    "- **S.F.Ratio** : Student/faculty ratio\n",
    "- **perc.alumni** : Percent of alumni who donate\n",
    "- **Expend** : Instructional expenditure per student\n",
    "- **Grad.Rate** : Graduation rate"
   ]
  },
  {
   "cell_type": "markdown",
   "metadata": {
    "id": "AVSNHnvhu4Lr"
   },
   "source": [
    "7. Use the `describe()` method on the `college` dataframe. Spend some time trying to figure out what information is provided. check the documentation [here.](https://pandas.pydata.org/docs/reference/api/pandas.DataFrame.describe.html)"
   ]
  },
  {
   "cell_type": "code",
   "execution_count": 3,
   "metadata": {
    "id": "g3vDRdDeu4Ls",
    "ExecuteTime": {
     "end_time": "2023-10-16T19:11:50.120477911Z",
     "start_time": "2023-10-16T19:11:49.956881573Z"
    }
   },
   "outputs": [
    {
     "data": {
      "text/plain": "               Apps        Accept       Enroll   Top10perc   Top25perc  \\\ncount    777.000000    777.000000   777.000000  777.000000  777.000000   \nmean    3001.638353   2018.804376   779.972973   27.558559   55.796654   \nstd     3870.201484   2451.113971   929.176190   17.640364   19.804778   \nmin       81.000000     72.000000    35.000000    1.000000    9.000000   \n25%      776.000000    604.000000   242.000000   15.000000   41.000000   \n50%     1558.000000   1110.000000   434.000000   23.000000   54.000000   \n75%     3624.000000   2424.000000   902.000000   35.000000   69.000000   \nmax    48094.000000  26330.000000  6392.000000   96.000000  100.000000   \n\n        F.Undergrad   P.Undergrad      Outstate   Room.Board        Books  \\\ncount    777.000000    777.000000    777.000000   777.000000   777.000000   \nmean    3699.907336    855.298584  10440.669241  4357.526384   549.380952   \nstd     4850.420531   1522.431887   4023.016484  1096.696416   165.105360   \nmin      139.000000      1.000000   2340.000000  1780.000000    96.000000   \n25%      992.000000     95.000000   7320.000000  3597.000000   470.000000   \n50%     1707.000000    353.000000   9990.000000  4200.000000   500.000000   \n75%     4005.000000    967.000000  12925.000000  5050.000000   600.000000   \nmax    31643.000000  21836.000000  21700.000000  8124.000000  2340.000000   \n\n          Personal         PhD    Terminal   S.F.Ratio  perc.alumni  \\\ncount   777.000000  777.000000  777.000000  777.000000   777.000000   \nmean   1340.642214   72.660232   79.702703   14.089704    22.743887   \nstd     677.071454   16.328155   14.722359    3.958349    12.391801   \nmin     250.000000    8.000000   24.000000    2.500000     0.000000   \n25%     850.000000   62.000000   71.000000   11.500000    13.000000   \n50%    1200.000000   75.000000   82.000000   13.600000    21.000000   \n75%    1700.000000   85.000000   92.000000   16.500000    31.000000   \nmax    6800.000000  103.000000  100.000000   39.800000    64.000000   \n\n             Expend  Grad.Rate  \ncount    777.000000  777.00000  \nmean    9660.171171   65.46332  \nstd     5221.768440   17.17771  \nmin     3186.000000   10.00000  \n25%     6751.000000   53.00000  \n50%     8377.000000   65.00000  \n75%    10830.000000   78.00000  \nmax    56233.000000  118.00000  ",
      "text/html": "<div>\n<style scoped>\n    .dataframe tbody tr th:only-of-type {\n        vertical-align: middle;\n    }\n\n    .dataframe tbody tr th {\n        vertical-align: top;\n    }\n\n    .dataframe thead th {\n        text-align: right;\n    }\n</style>\n<table border=\"1\" class=\"dataframe\">\n  <thead>\n    <tr style=\"text-align: right;\">\n      <th></th>\n      <th>Apps</th>\n      <th>Accept</th>\n      <th>Enroll</th>\n      <th>Top10perc</th>\n      <th>Top25perc</th>\n      <th>F.Undergrad</th>\n      <th>P.Undergrad</th>\n      <th>Outstate</th>\n      <th>Room.Board</th>\n      <th>Books</th>\n      <th>Personal</th>\n      <th>PhD</th>\n      <th>Terminal</th>\n      <th>S.F.Ratio</th>\n      <th>perc.alumni</th>\n      <th>Expend</th>\n      <th>Grad.Rate</th>\n    </tr>\n  </thead>\n  <tbody>\n    <tr>\n      <th>count</th>\n      <td>777.000000</td>\n      <td>777.000000</td>\n      <td>777.000000</td>\n      <td>777.000000</td>\n      <td>777.000000</td>\n      <td>777.000000</td>\n      <td>777.000000</td>\n      <td>777.000000</td>\n      <td>777.000000</td>\n      <td>777.000000</td>\n      <td>777.000000</td>\n      <td>777.000000</td>\n      <td>777.000000</td>\n      <td>777.000000</td>\n      <td>777.000000</td>\n      <td>777.000000</td>\n      <td>777.00000</td>\n    </tr>\n    <tr>\n      <th>mean</th>\n      <td>3001.638353</td>\n      <td>2018.804376</td>\n      <td>779.972973</td>\n      <td>27.558559</td>\n      <td>55.796654</td>\n      <td>3699.907336</td>\n      <td>855.298584</td>\n      <td>10440.669241</td>\n      <td>4357.526384</td>\n      <td>549.380952</td>\n      <td>1340.642214</td>\n      <td>72.660232</td>\n      <td>79.702703</td>\n      <td>14.089704</td>\n      <td>22.743887</td>\n      <td>9660.171171</td>\n      <td>65.46332</td>\n    </tr>\n    <tr>\n      <th>std</th>\n      <td>3870.201484</td>\n      <td>2451.113971</td>\n      <td>929.176190</td>\n      <td>17.640364</td>\n      <td>19.804778</td>\n      <td>4850.420531</td>\n      <td>1522.431887</td>\n      <td>4023.016484</td>\n      <td>1096.696416</td>\n      <td>165.105360</td>\n      <td>677.071454</td>\n      <td>16.328155</td>\n      <td>14.722359</td>\n      <td>3.958349</td>\n      <td>12.391801</td>\n      <td>5221.768440</td>\n      <td>17.17771</td>\n    </tr>\n    <tr>\n      <th>min</th>\n      <td>81.000000</td>\n      <td>72.000000</td>\n      <td>35.000000</td>\n      <td>1.000000</td>\n      <td>9.000000</td>\n      <td>139.000000</td>\n      <td>1.000000</td>\n      <td>2340.000000</td>\n      <td>1780.000000</td>\n      <td>96.000000</td>\n      <td>250.000000</td>\n      <td>8.000000</td>\n      <td>24.000000</td>\n      <td>2.500000</td>\n      <td>0.000000</td>\n      <td>3186.000000</td>\n      <td>10.00000</td>\n    </tr>\n    <tr>\n      <th>25%</th>\n      <td>776.000000</td>\n      <td>604.000000</td>\n      <td>242.000000</td>\n      <td>15.000000</td>\n      <td>41.000000</td>\n      <td>992.000000</td>\n      <td>95.000000</td>\n      <td>7320.000000</td>\n      <td>3597.000000</td>\n      <td>470.000000</td>\n      <td>850.000000</td>\n      <td>62.000000</td>\n      <td>71.000000</td>\n      <td>11.500000</td>\n      <td>13.000000</td>\n      <td>6751.000000</td>\n      <td>53.00000</td>\n    </tr>\n    <tr>\n      <th>50%</th>\n      <td>1558.000000</td>\n      <td>1110.000000</td>\n      <td>434.000000</td>\n      <td>23.000000</td>\n      <td>54.000000</td>\n      <td>1707.000000</td>\n      <td>353.000000</td>\n      <td>9990.000000</td>\n      <td>4200.000000</td>\n      <td>500.000000</td>\n      <td>1200.000000</td>\n      <td>75.000000</td>\n      <td>82.000000</td>\n      <td>13.600000</td>\n      <td>21.000000</td>\n      <td>8377.000000</td>\n      <td>65.00000</td>\n    </tr>\n    <tr>\n      <th>75%</th>\n      <td>3624.000000</td>\n      <td>2424.000000</td>\n      <td>902.000000</td>\n      <td>35.000000</td>\n      <td>69.000000</td>\n      <td>4005.000000</td>\n      <td>967.000000</td>\n      <td>12925.000000</td>\n      <td>5050.000000</td>\n      <td>600.000000</td>\n      <td>1700.000000</td>\n      <td>85.000000</td>\n      <td>92.000000</td>\n      <td>16.500000</td>\n      <td>31.000000</td>\n      <td>10830.000000</td>\n      <td>78.00000</td>\n    </tr>\n    <tr>\n      <th>max</th>\n      <td>48094.000000</td>\n      <td>26330.000000</td>\n      <td>6392.000000</td>\n      <td>96.000000</td>\n      <td>100.000000</td>\n      <td>31643.000000</td>\n      <td>21836.000000</td>\n      <td>21700.000000</td>\n      <td>8124.000000</td>\n      <td>2340.000000</td>\n      <td>6800.000000</td>\n      <td>103.000000</td>\n      <td>100.000000</td>\n      <td>39.800000</td>\n      <td>64.000000</td>\n      <td>56233.000000</td>\n      <td>118.00000</td>\n    </tr>\n  </tbody>\n</table>\n</div>"
     },
     "execution_count": 3,
     "metadata": {},
     "output_type": "execute_result"
    }
   ],
   "source": [
    "college.describe()"
   ]
  },
  {
   "cell_type": "markdown",
   "metadata": {
    "id": "2SPO4ewVu4Lt"
   },
   "source": [
    "8. Notice we have the `college` dataframe indexed by column index, and the column with the university names has no name itself, we want to index by the universities. Play with the `Pandas` methods `rename` and `set_index` so that you (a) get rid of the numerical index, (b) make the universities column become the new index, and call that column `College`"
   ]
  },
  {
   "cell_type": "code",
   "execution_count": null,
   "metadata": {
    "id": "sNbu_Ekeu4Lu"
   },
   "outputs": [],
   "source": []
  },
  {
   "cell_type": "markdown",
   "metadata": {
    "id": "bc_wOKSau4Lu"
   },
   "source": [
    "9. Use the `pd.plotting.scatter_matrix()` function to produce a scatterplot matrix of the first columns `[Top10perc, Apps, Enroll]`.\n",
    "\n",
    "For this, you need to slide your dataframe on the three columns. Recall that you can reference a list C of columns of a data frame `A`  using  `A[C]` ."
   ]
  },
  {
   "cell_type": "code",
   "execution_count": null,
   "metadata": {
    "id": "l9_koozYu4Lv"
   },
   "outputs": [],
   "source": []
  },
  {
   "cell_type": "markdown",
   "metadata": {
    "id": "TQc30Yocxhu0"
   },
   "source": [
    "10. Use the `boxplot()` method of college to produce side-by-side boxplots of `Outstate` versus `Private`."
   ]
  },
  {
   "cell_type": "code",
   "execution_count": null,
   "metadata": {
    "id": "HFteyctiu4Lw"
   },
   "outputs": [],
   "source": []
  },
  {
   "cell_type": "markdown",
   "metadata": {
    "id": "us8nuuWH1F-5"
   },
   "source": [
    "11. Create a new qualitative variable, called `Elite`, by *binning* the `Top10perc` variable into two groups based on whether or not the proportion of students coming from the top 10% of their high school classes exceeds 50%."
   ]
  },
  {
   "cell_type": "code",
   "execution_count": null,
   "metadata": {
    "id": "gf59UZiEyWid"
   },
   "outputs": [],
   "source": []
  },
  {
   "cell_type": "markdown",
   "metadata": {
    "id": "SIEjmOte1fEW"
   },
   "source": [
    "Use the `value_counts()` method of college`['Elite']` to see how many elite universities there are. Finally, use the `boxplot()` method again to produce side-by-side boxplots of `Outstate` versus `Elite`."
   ]
  },
  {
   "cell_type": "code",
   "execution_count": null,
   "metadata": {
    "id": "kkHDEIKY1ejB"
   },
   "outputs": [],
   "source": []
  },
  {
   "cell_type": "markdown",
   "metadata": {
    "id": "dEFhb75b2Nsd"
   },
   "source": [
    "12. Use the `plot.hist()` method of `college` to produce some histograms with differing numbers of bins for a few of the quantitative variables. The command `plt.subplots(2, 2)` may be useful: it will divide the plot window into four regions so that four plots can be made simultaneously. By changing the arguments you can divide the screen up in other combinations."
   ]
  },
  {
   "cell_type": "code",
   "execution_count": null,
   "metadata": {
    "id": "n0siNJqi2dcQ"
   },
   "outputs": [],
   "source": []
  },
  {
   "cell_type": "markdown",
   "metadata": {
    "id": "JS5aMkOxDX6J"
   },
   "source": [
    "13. Continue exploring the data, and provide a brief summary of what you discover."
   ]
  },
  {
   "cell_type": "code",
   "execution_count": 10,
   "metadata": {
    "id": "1BP7uOh4DeTf"
   },
   "outputs": [],
   "source": []
  },
  {
   "cell_type": "markdown",
   "metadata": {
    "id": "wi8xPnO-u4Lw"
   },
   "source": [
    "## Part II: The Auto dataset"
   ]
  },
  {
   "cell_type": "markdown",
   "metadata": {
    "id": "LPUtiefoDwn2"
   },
   "source": [
    "1. Import `Pandas`\n",
    "2. From the Moodle page (week 3, lab) get the `Auto.csv` CSV file and put it in the same folder where you saved your Jupyter notebook\n",
    "3. Read the CSV file as a variable called `Auto`\n",
    "4. Inspect the contents of the dataframe by using the `head()` method from `Pandas`"
   ]
  },
  {
   "cell_type": "code",
   "execution_count": 12,
   "metadata": {
    "id": "qivWZPf2DsCX"
   },
   "outputs": [
    {
     "data": {
      "text/html": [
       "<div>\n",
       "<style scoped>\n",
       "    .dataframe tbody tr th:only-of-type {\n",
       "        vertical-align: middle;\n",
       "    }\n",
       "\n",
       "    .dataframe tbody tr th {\n",
       "        vertical-align: top;\n",
       "    }\n",
       "\n",
       "    .dataframe thead th {\n",
       "        text-align: right;\n",
       "    }\n",
       "</style>\n",
       "<table border=\"1\" class=\"dataframe\">\n",
       "  <thead>\n",
       "    <tr style=\"text-align: right;\">\n",
       "      <th></th>\n",
       "      <th>mpg</th>\n",
       "      <th>cylinders</th>\n",
       "      <th>displacement</th>\n",
       "      <th>horsepower</th>\n",
       "      <th>weight</th>\n",
       "      <th>acceleration</th>\n",
       "      <th>year</th>\n",
       "      <th>origin</th>\n",
       "      <th>name</th>\n",
       "    </tr>\n",
       "  </thead>\n",
       "  <tbody>\n",
       "    <tr>\n",
       "      <th>0</th>\n",
       "      <td>18.0</td>\n",
       "      <td>8</td>\n",
       "      <td>307.0</td>\n",
       "      <td>130</td>\n",
       "      <td>3504</td>\n",
       "      <td>12.0</td>\n",
       "      <td>70</td>\n",
       "      <td>1</td>\n",
       "      <td>chevrolet chevelle malibu</td>\n",
       "    </tr>\n",
       "    <tr>\n",
       "      <th>1</th>\n",
       "      <td>15.0</td>\n",
       "      <td>8</td>\n",
       "      <td>350.0</td>\n",
       "      <td>165</td>\n",
       "      <td>3693</td>\n",
       "      <td>11.5</td>\n",
       "      <td>70</td>\n",
       "      <td>1</td>\n",
       "      <td>buick skylark 320</td>\n",
       "    </tr>\n",
       "    <tr>\n",
       "      <th>2</th>\n",
       "      <td>18.0</td>\n",
       "      <td>8</td>\n",
       "      <td>318.0</td>\n",
       "      <td>150</td>\n",
       "      <td>3436</td>\n",
       "      <td>11.0</td>\n",
       "      <td>70</td>\n",
       "      <td>1</td>\n",
       "      <td>plymouth satellite</td>\n",
       "    </tr>\n",
       "    <tr>\n",
       "      <th>3</th>\n",
       "      <td>16.0</td>\n",
       "      <td>8</td>\n",
       "      <td>304.0</td>\n",
       "      <td>150</td>\n",
       "      <td>3433</td>\n",
       "      <td>12.0</td>\n",
       "      <td>70</td>\n",
       "      <td>1</td>\n",
       "      <td>amc rebel sst</td>\n",
       "    </tr>\n",
       "    <tr>\n",
       "      <th>4</th>\n",
       "      <td>17.0</td>\n",
       "      <td>8</td>\n",
       "      <td>302.0</td>\n",
       "      <td>140</td>\n",
       "      <td>3449</td>\n",
       "      <td>10.5</td>\n",
       "      <td>70</td>\n",
       "      <td>1</td>\n",
       "      <td>ford torino</td>\n",
       "    </tr>\n",
       "  </tbody>\n",
       "</table>\n",
       "</div>"
      ],
      "text/plain": [
       "    mpg  cylinders  displacement horsepower  weight  acceleration  year  \\\n",
       "0  18.0          8         307.0        130    3504          12.0    70   \n",
       "1  15.0          8         350.0        165    3693          11.5    70   \n",
       "2  18.0          8         318.0        150    3436          11.0    70   \n",
       "3  16.0          8         304.0        150    3433          12.0    70   \n",
       "4  17.0          8         302.0        140    3449          10.5    70   \n",
       "\n",
       "   origin                       name  \n",
       "0       1  chevrolet chevelle malibu  \n",
       "1       1          buick skylark 320  \n",
       "2       1         plymouth satellite  \n",
       "3       1              amc rebel sst  \n",
       "4       1                ford torino  "
      ]
     },
     "execution_count": 12,
     "metadata": {},
     "output_type": "execute_result"
    }
   ],
   "source": [
    "import pandas as pd\n",
    "Auto = pd.read_csv('Auto.csv')\n",
    "Auto.head()\n",
    "#Auto.tail()"
   ]
  },
  {
   "cell_type": "markdown",
   "metadata": {
    "id": "RCREaOLHEevr"
   },
   "source": [
    "5. Which of the predictors are quantitative, and which are qualitative?"
   ]
  },
  {
   "cell_type": "code",
   "execution_count": null,
   "metadata": {
    "id": "yO_ClMWKd5C5"
   },
   "outputs": [],
   "source": []
  },
  {
   "cell_type": "markdown",
   "metadata": {
    "id": "nSmYfaz_EyRH"
   },
   "source": [
    "6. What is the range of each quantitative predictor? You can answer this using the `min()` and `max()` methods in numpy."
   ]
  },
  {
   "cell_type": "code",
   "execution_count": null,
   "metadata": {
    "id": "RH_I1guyM1_v"
   },
   "outputs": [],
   "source": []
  },
  {
   "cell_type": "markdown",
   "metadata": {
    "id": "5iuHJqoCH2CG"
   },
   "source": [
    "8. What is the mean and standard deviation of each quantitative predictor?"
   ]
  },
  {
   "cell_type": "code",
   "execution_count": null,
   "metadata": {
    "id": "O_Ry8u5fNOHa"
   },
   "outputs": [],
   "source": []
  },
  {
   "cell_type": "markdown",
   "metadata": {
    "id": "G5c_fOMSINdV"
   },
   "source": [
    "9. Now remove the 10th through 85th observations. What is the range, mean, and standard deviation of each predictor in the subset of the data that remains?"
   ]
  },
  {
   "cell_type": "code",
   "execution_count": null,
   "metadata": {
    "id": "KSB_xwLRH-1X"
   },
   "outputs": [],
   "source": []
  },
  {
   "cell_type": "markdown",
   "metadata": {
    "id": "tS5F-YLkRHVF"
   },
   "source": [
    "10. Using the full data set, investigate the predictors graphically, using scatterplots or other tools of your choice. Create some plots highlighting the relationships among the predictors. Comment on your findings."
   ]
  },
  {
   "cell_type": "code",
   "execution_count": 28,
   "metadata": {
    "id": "JRI90yuDSRvh"
   },
   "outputs": [],
   "source": []
  },
  {
   "cell_type": "markdown",
   "metadata": {
    "id": "XAr0KMafSSK3"
   },
   "source": [
    "11. Suppose that we wish to predict gas mileage (mpg) on the basis of the other variables. Do your plots suggest that any of the other variables might be useful in predicting mpg? Justify your answer."
   ]
  },
  {
   "cell_type": "code",
   "execution_count": null,
   "metadata": {
    "id": "2LXmDeZRSyH-"
   },
   "outputs": [],
   "source": []
  },
  {
   "cell_type": "markdown",
   "metadata": {
    "id": "vjT9lWi8S-Oc"
   },
   "source": [
    "## Part III: The Boston dataset"
   ]
  },
  {
   "cell_type": "markdown",
   "metadata": {
    "id": "olrj4u3FTGDP"
   },
   "source": [
    "1. Import `Pandas`\n",
    "2. From ISLP library get Boston dataset. (Info [link text](https://islp.readthedocs.io/en/latest/datasets/Boston.html))\n",
    "4. Inspect the contents of the dataframe by using the `head()` method from `Pandas`"
   ]
  },
  {
   "cell_type": "code",
   "execution_count": 3,
   "metadata": {
    "id": "PmK7M6ZXUDn5"
   },
   "outputs": [],
   "source": [
    "!pip install --force-reinstall -v \"numpy==1.22\""
   ]
  },
  {
   "cell_type": "code",
   "execution_count": 4,
   "metadata": {
    "id": "9_VzQU1dTsSH"
   },
   "outputs": [],
   "source": [
    "!pip install ISLP"
   ]
  },
  {
   "cell_type": "code",
   "execution_count": 33,
   "metadata": {
    "colab": {
     "base_uri": "https://localhost:8080/"
    },
    "id": "FGl3CVDSTAZ4",
    "outputId": "a400e17c-edb8-447d-b0cd-b0b98fb2f1d4"
   },
   "outputs": [
    {
     "data": {
      "text/plain": [
       "Index(['crim', 'zn', 'indus', 'chas', 'nox', 'rm', 'age', 'dis', 'rad', 'tax',\n",
       "       'ptratio', 'lstat', 'medv'],\n",
       "      dtype='object')"
      ]
     },
     "execution_count": 33,
     "metadata": {},
     "output_type": "execute_result"
    }
   ],
   "source": [
    "from ISLP import load_data\n",
    "\n",
    "Boston = load_data('Boston')\n",
    "Boston.columns"
   ]
  },
  {
   "cell_type": "code",
   "execution_count": 2,
   "metadata": {
    "id": "w9tmAR98TqAw"
   },
   "outputs": [],
   "source": [
    "Boston.head()"
   ]
  },
  {
   "cell_type": "markdown",
   "metadata": {
    "id": "R6_y5TMwVtPf"
   },
   "source": [
    "1. How many rows are in this data set? How many columns? What do the rows and columns represent?"
   ]
  },
  {
   "cell_type": "code",
   "execution_count": null,
   "metadata": {
    "id": "w6P00AOWVkpE"
   },
   "outputs": [],
   "source": [
    "Boston.shape    "
   ]
  },
  {
   "cell_type": "markdown",
   "metadata": {
    "id": "H34DJ9DiWC6n"
   },
   "source": [
    "4. Make some pairwise scatterplots of the predictors (columns) in this data set. Describe your findings."
   ]
  },
  {
   "cell_type": "code",
   "execution_count": null,
   "metadata": {
    "id": "atycRFIEVzcq"
   },
   "outputs": [],
   "source": []
  },
  {
   "cell_type": "markdown",
   "metadata": {
    "id": "bzpp3tPIWoty"
   },
   "source": [
    "5. Are any of the predictors associated with per capita crime rate? If so, explain the relationship."
   ]
  },
  {
   "cell_type": "code",
   "execution_count": null,
   "metadata": {
    "id": "RuTEKADqWP1w"
   },
   "outputs": [],
   "source": []
  },
  {
   "cell_type": "markdown",
   "metadata": {
    "id": "HYQyAY0DYQX6"
   },
   "source": [
    "6. Do any of the suburbs of Boston appear to have particularly high crime rates? Tax rates? Pupil-teacher ratios? Comment on the range of each predictor."
   ]
  },
  {
   "cell_type": "code",
   "execution_count": null,
   "metadata": {
    "id": "eHyiMjj_XV36"
   },
   "outputs": [],
   "source": []
  },
  {
   "cell_type": "markdown",
   "metadata": {
    "id": "8JgYiOr_Y62_"
   },
   "source": [
    "7. How many of the suburbs in this data set bound the Charles river?"
   ]
  },
  {
   "cell_type": "code",
   "execution_count": null,
   "metadata": {
    "id": "18rG6MDrYpLd"
   },
   "outputs": [],
   "source": []
  },
  {
   "cell_type": "markdown",
   "metadata": {
    "id": "ZCOerNTQZkWf"
   },
   "source": [
    "8. What is the median pupil-teacher ratio among the towns in this data set?"
   ]
  },
  {
   "cell_type": "code",
   "execution_count": null,
   "metadata": {
    "id": "Fl8qdqk7ZXN8"
   },
   "outputs": [],
   "source": []
  },
  {
   "cell_type": "markdown",
   "metadata": {
    "id": "ZMGowJNpaBiu"
   },
   "source": [
    "9. Which suburb of Boston has lowest median value of owner- occupied homes? What are the values of the other predictors for that suburb, and how do those values compare to the overall ranges for those predictors? Comment on your findings.\n"
   ]
  },
  {
   "cell_type": "code",
   "execution_count": null,
   "metadata": {
    "id": "2u24UVydZwlf"
   },
   "outputs": [],
   "source": []
  },
  {
   "cell_type": "markdown",
   "metadata": {
    "id": "zgBgH7YYacJW"
   },
   "source": [
    "10. In this data set, how many of the suburbs average more than seven rooms per dwelling? More than eight rooms per dwelling? Comment on the suburbs that average more than eight rooms per dwelling."
   ]
  },
  {
   "cell_type": "code",
   "execution_count": null,
   "metadata": {
    "id": "E5GtbKKFZ8Vh"
   },
   "outputs": [],
   "source": []
  }
 ],
 "metadata": {
  "colab": {
   "provenance": []
  },
  "kernelspec": {
   "display_name": "Python 3 (ipykernel)",
   "language": "python",
   "name": "python3"
  },
  "language_info": {
   "codemirror_mode": {
    "name": "ipython",
    "version": 3
   },
   "file_extension": ".py",
   "mimetype": "text/x-python",
   "name": "python",
   "nbconvert_exporter": "python",
   "pygments_lexer": "ipython3",
   "version": "3.9.2"
  }
 },
 "nbformat": 4,
 "nbformat_minor": 1
}
