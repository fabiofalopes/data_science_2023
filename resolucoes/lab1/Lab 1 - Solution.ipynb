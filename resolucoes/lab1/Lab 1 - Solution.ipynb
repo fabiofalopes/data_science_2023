{
 "cells": [
  {
   "cell_type": "markdown",
   "metadata": {},
   "source": [
    "# Lab 1 - Python\n",
    "\n",
    "## Purpose\n",
    "The purpose of this notebook is to make you more confident coding with Python and Jupyter Notebooks, which we will be using for the rest of the year (also in the second semester in Inteligência Artificial).\n",
    "\n",
    "## Methodology\n",
    "Review basic operations, data types and programming concepts in Python. Solve programming challenges.\n",
    "\n",
    "## Results\n",
    "Fast track to programming in Python.\n",
    "\n",
    "---"
   ]
  },
  {
   "cell_type": "markdown",
   "metadata": {
    "deletable": false,
    "editable": false
   },
   "source": [
    "## Setup\n",
    "\n",
    "### Library import"
   ]
  },
  {
   "cell_type": "code",
   "execution_count": 1,
   "metadata": {
    "ExecuteTime": {
     "end_time": "2021-02-26T13:33:33.304561Z",
     "start_time": "2021-02-26T13:33:33.300188Z"
    },
    "colab": {
     "base_uri": "https://localhost:8080/"
    },
    "id": "HpUE2CrVk-sU",
    "outputId": "26461d09-1cdd-486b-99dd-04e48af18d7b"
   },
   "outputs": [],
   "source": [
    "import numpy as np\n",
    "import "
   ]
  },
  {
   "cell_type": "markdown",
   "metadata": {
    "deletable": false,
    "editable": false
   },
   "source": [
    "#### Numpy"
   ]
  },
  {
   "cell_type": "markdown",
   "metadata": {
    "deletable": false,
    "editable": false
   },
   "source": [
    "The fundamental package for scientific computing with Python\n",
    "\n",
    "<img src=\"https://numpy.org/images/logo.svg\" width=\"100\" height=\"100\">\n",
    "\n",
    "[NumPy](https://numpy.org/)"
   ]
  },
  {
   "cell_type": "markdown",
   "metadata": {},
   "source": [
    "---\n",
    "\n",
    "# Review"
   ]
  },
  {
   "cell_type": "markdown",
   "metadata": {},
   "source": [
    "## Types"
   ]
  },
  {
   "cell_type": "markdown",
   "metadata": {},
   "source": [
    "https://docs.python.org/3.6/library/stdtypes.html"
   ]
  },
  {
   "cell_type": "markdown",
   "metadata": {},
   "source": [
    "### Boolean"
   ]
  },
  {
   "cell_type": "code",
   "execution_count": 2,
   "metadata": {
    "ExecuteTime": {
     "end_time": "2021-02-21T23:42:17.931566Z",
     "start_time": "2021-02-21T23:42:17.922227Z"
    },
    "hide_input": false
   },
   "outputs": [
    {
     "data": {
      "text/plain": [
       "True"
      ]
     },
     "execution_count": 2,
     "metadata": {},
     "output_type": "execute_result"
    }
   ],
   "source": [
    "True"
   ]
  },
  {
   "cell_type": "code",
   "execution_count": 3,
   "metadata": {
    "ExecuteTime": {
     "end_time": "2021-02-21T23:42:17.945987Z",
     "start_time": "2021-02-21T23:42:17.935777Z"
    }
   },
   "outputs": [
    {
     "data": {
      "text/plain": [
       "False"
      ]
     },
     "execution_count": 3,
     "metadata": {},
     "output_type": "execute_result"
    }
   ],
   "source": [
    "False"
   ]
  },
  {
   "cell_type": "code",
   "execution_count": 4,
   "metadata": {
    "ExecuteTime": {
     "end_time": "2021-02-21T23:42:17.961964Z",
     "start_time": "2021-02-21T23:42:17.952050Z"
    }
   },
   "outputs": [
    {
     "data": {
      "text/plain": [
       "bool"
      ]
     },
     "execution_count": 4,
     "metadata": {},
     "output_type": "execute_result"
    }
   ],
   "source": [
    "type(True)"
   ]
  },
  {
   "cell_type": "markdown",
   "metadata": {},
   "source": [
    "#### Boolean Operations \n",
    "\n",
    "Suppose variables `x` and `y`\n",
    "\n",
    "    \n",
    "<table><thead>\n",
    "<tr>\n",
    "<th style=\"text-align: center\">Operator</th>\n",
    "<th>Description</th>\n",
    "<th>Code</th>\n",
    "</tr>\n",
    "</thead><tbody>\n",
    "<tr>\n",
    "<td style=\"text-align: center\">and</td>\n",
    "<td>True if both are true</td>\n",
    "<td><code>x and y</code></td>\n",
    "</tr>\n",
    "<tr>\n",
    "<td style=\"text-align: center\">or</td>\n",
    "<td>True if at least one is true</td>\n",
    "<td><code>x or y</code></td>\n",
    "</tr>\n",
    "<tr>\n",
    "<td style=\"text-align: center\">not</td>\n",
    "<td>True only if false</td>\n",
    "<td><code>not x</code></td>\n",
    "</tr>\n",
    "</tbody></table>"
   ]
  },
  {
   "cell_type": "code",
   "execution_count": 5,
   "metadata": {
    "ExecuteTime": {
     "end_time": "2021-02-21T23:42:17.972869Z",
     "start_time": "2021-02-21T23:42:17.967990Z"
    }
   },
   "outputs": [],
   "source": [
    "x = True\n",
    "y = False"
   ]
  },
  {
   "cell_type": "code",
   "execution_count": 6,
   "metadata": {
    "ExecuteTime": {
     "end_time": "2021-02-21T23:42:17.984934Z",
     "start_time": "2021-02-21T23:42:17.977306Z"
    }
   },
   "outputs": [
    {
     "data": {
      "text/plain": [
       "False"
      ]
     },
     "execution_count": 6,
     "metadata": {},
     "output_type": "execute_result"
    }
   ],
   "source": [
    "x and y"
   ]
  },
  {
   "cell_type": "code",
   "execution_count": 7,
   "metadata": {
    "ExecuteTime": {
     "end_time": "2021-02-21T23:42:17.996518Z",
     "start_time": "2021-02-21T23:42:17.988571Z"
    }
   },
   "outputs": [
    {
     "data": {
      "text/plain": [
       "True"
      ]
     },
     "execution_count": 7,
     "metadata": {},
     "output_type": "execute_result"
    }
   ],
   "source": [
    "x and not y"
   ]
  },
  {
   "cell_type": "markdown",
   "metadata": {},
   "source": [
    "---\n",
    "\n",
    "###  Numeric \n",
    "- int\n",
    "- float"
   ]
  },
  {
   "cell_type": "code",
   "execution_count": 8,
   "metadata": {
    "ExecuteTime": {
     "end_time": "2021-02-21T23:42:18.009809Z",
     "start_time": "2021-02-21T23:42:18.001519Z"
    }
   },
   "outputs": [
    {
     "data": {
      "text/plain": [
       "int"
      ]
     },
     "execution_count": 8,
     "metadata": {},
     "output_type": "execute_result"
    }
   ],
   "source": [
    "a_integer = 2\n",
    "type(a_integer)"
   ]
  },
  {
   "cell_type": "code",
   "execution_count": 9,
   "metadata": {
    "ExecuteTime": {
     "end_time": "2021-02-21T23:42:18.022322Z",
     "start_time": "2021-02-21T23:42:18.013714Z"
    }
   },
   "outputs": [
    {
     "data": {
      "text/plain": [
       "float"
      ]
     },
     "execution_count": 9,
     "metadata": {},
     "output_type": "execute_result"
    }
   ],
   "source": [
    "a_float = 2.0\n",
    "type(a_float)"
   ]
  },
  {
   "cell_type": "markdown",
   "metadata": {},
   "source": [
    "Cast from Float to Integer"
   ]
  },
  {
   "cell_type": "code",
   "execution_count": 10,
   "metadata": {
    "ExecuteTime": {
     "end_time": "2021-02-21T23:42:18.032421Z",
     "start_time": "2021-02-21T23:42:18.026261Z"
    }
   },
   "outputs": [
    {
     "data": {
      "text/plain": [
       "2"
      ]
     },
     "execution_count": 10,
     "metadata": {},
     "output_type": "execute_result"
    }
   ],
   "source": [
    "int(2.0)"
   ]
  },
  {
   "cell_type": "markdown",
   "metadata": {},
   "source": [
    "Cast from Integer to Float"
   ]
  },
  {
   "cell_type": "code",
   "execution_count": 11,
   "metadata": {
    "ExecuteTime": {
     "end_time": "2021-02-21T23:42:18.043503Z",
     "start_time": "2021-02-21T23:42:18.036104Z"
    }
   },
   "outputs": [
    {
     "data": {
      "text/plain": [
       "2.0"
      ]
     },
     "execution_count": 11,
     "metadata": {},
     "output_type": "execute_result"
    }
   ],
   "source": [
    "float(2)"
   ]
  },
  {
   "cell_type": "markdown",
   "metadata": {},
   "source": [
    "---"
   ]
  },
  {
   "cell_type": "markdown",
   "metadata": {},
   "source": [
    "### Sequence Types"
   ]
  },
  {
   "cell_type": "markdown",
   "metadata": {},
   "source": [
    "#### Text Sequence or String"
   ]
  },
  {
   "cell_type": "code",
   "execution_count": 12,
   "metadata": {
    "ExecuteTime": {
     "end_time": "2021-02-21T23:42:18.055031Z",
     "start_time": "2021-02-21T23:42:18.047405Z"
    }
   },
   "outputs": [
    {
     "data": {
      "text/plain": [
       "str"
      ]
     },
     "execution_count": 12,
     "metadata": {},
     "output_type": "execute_result"
    }
   ],
   "source": [
    "a_string = \"Data\"\n",
    "type(a_string)"
   ]
  },
  {
   "cell_type": "markdown",
   "metadata": {},
   "source": [
    "Concatenate Strings"
   ]
  },
  {
   "cell_type": "code",
   "execution_count": 13,
   "metadata": {
    "ExecuteTime": {
     "end_time": "2021-02-21T23:42:18.067381Z",
     "start_time": "2021-02-21T23:42:18.058517Z"
    }
   },
   "outputs": [
    {
     "data": {
      "text/plain": [
       "'Data Science'"
      ]
     },
     "execution_count": 13,
     "metadata": {},
     "output_type": "execute_result"
    }
   ],
   "source": [
    "a_string + \" Science\""
   ]
  },
  {
   "cell_type": "markdown",
   "metadata": {},
   "source": [
    "#### List,  Mutable Dynamic Arrays\n"
   ]
  },
  {
   "cell_type": "markdown",
   "metadata": {},
   "source": [
    "Empty List"
   ]
  },
  {
   "cell_type": "code",
   "execution_count": 14,
   "metadata": {
    "ExecuteTime": {
     "end_time": "2021-02-21T23:42:18.083456Z",
     "start_time": "2021-02-21T23:42:18.071566Z"
    }
   },
   "outputs": [
    {
     "data": {
      "text/plain": [
       "[]"
      ]
     },
     "execution_count": 14,
     "metadata": {},
     "output_type": "execute_result"
    }
   ],
   "source": [
    "list_array = []\n",
    "list_array"
   ]
  },
  {
   "cell_type": "markdown",
   "metadata": {},
   "source": [
    "Multiple types "
   ]
  },
  {
   "cell_type": "code",
   "execution_count": 15,
   "metadata": {
    "ExecuteTime": {
     "end_time": "2021-02-21T23:42:18.094566Z",
     "start_time": "2021-02-21T23:42:18.087056Z"
    }
   },
   "outputs": [
    {
     "data": {
      "text/plain": [
       "['one', 'two', 3, 4.0]"
      ]
     },
     "execution_count": 15,
     "metadata": {},
     "output_type": "execute_result"
    }
   ],
   "source": [
    "list_array = [\"one\", \"two\", 3, 4.0]\n",
    "list_array"
   ]
  },
  {
   "cell_type": "markdown",
   "metadata": {},
   "source": [
    "Mutability"
   ]
  },
  {
   "cell_type": "code",
   "execution_count": 16,
   "metadata": {
    "ExecuteTime": {
     "end_time": "2021-02-21T23:42:18.103505Z",
     "start_time": "2021-02-21T23:42:18.097128Z"
    }
   },
   "outputs": [
    {
     "data": {
      "text/plain": [
       "['one', 'A', 3, 4.0]"
      ]
     },
     "execution_count": 16,
     "metadata": {},
     "output_type": "execute_result"
    }
   ],
   "source": [
    "list_array[1] = \"A\"\n",
    "list_array"
   ]
  },
  {
   "cell_type": "markdown",
   "metadata": {},
   "source": [
    "Append at the end"
   ]
  },
  {
   "cell_type": "code",
   "execution_count": 17,
   "metadata": {
    "ExecuteTime": {
     "end_time": "2021-02-21T23:42:18.112425Z",
     "start_time": "2021-02-21T23:42:18.105852Z"
    }
   },
   "outputs": [
    {
     "data": {
      "text/plain": [
       "['one', 'A', 3, 4.0, 'Data', 'Science', 'Intro', 10]"
      ]
     },
     "execution_count": 17,
     "metadata": {},
     "output_type": "execute_result"
    }
   ],
   "source": [
    "list_array.append(\"Data\")\n",
    "list_array.append(\"Science\")\n",
    "list_array.append(\"Intro\")\n",
    "list_array.append(10)\n",
    "list_array"
   ]
  },
  {
   "cell_type": "markdown",
   "metadata": {},
   "source": [
    "Remove at the end"
   ]
  },
  {
   "cell_type": "code",
   "execution_count": 18,
   "metadata": {
    "ExecuteTime": {
     "end_time": "2021-02-21T23:42:18.120533Z",
     "start_time": "2021-02-21T23:42:18.114790Z"
    }
   },
   "outputs": [
    {
     "data": {
      "text/plain": [
       "['one', 'A', 3, 4.0, 'Data', 'Science', 'Intro']"
      ]
     },
     "execution_count": 18,
     "metadata": {},
     "output_type": "execute_result"
    }
   ],
   "source": [
    "list_array.pop()\n",
    "list_array"
   ]
  },
  {
   "cell_type": "markdown",
   "metadata": {},
   "source": [
    "Remove Operation by index"
   ]
  },
  {
   "cell_type": "code",
   "execution_count": 19,
   "metadata": {
    "ExecuteTime": {
     "end_time": "2021-02-21T23:42:18.130703Z",
     "start_time": "2021-02-21T23:42:18.124846Z"
    }
   },
   "outputs": [
    {
     "data": {
      "text/plain": [
       "['one', 3, 4.0, 'Data', 'Science', 'Intro']"
      ]
     },
     "execution_count": 19,
     "metadata": {},
     "output_type": "execute_result"
    }
   ],
   "source": [
    "del list_array[1]\n",
    "list_array"
   ]
  },
  {
   "cell_type": "markdown",
   "metadata": {},
   "source": [
    "Size of list"
   ]
  },
  {
   "cell_type": "code",
   "execution_count": 20,
   "metadata": {
    "ExecuteTime": {
     "end_time": "2021-02-22T00:29:10.121342Z",
     "start_time": "2021-02-22T00:29:10.115344Z"
    }
   },
   "outputs": [
    {
     "data": {
      "text/plain": [
       "6"
      ]
     },
     "execution_count": 20,
     "metadata": {},
     "output_type": "execute_result"
    }
   ],
   "source": [
    "len(list_array)"
   ]
  },
  {
   "cell_type": "markdown",
   "metadata": {},
   "source": [
    "Acessing list elements"
   ]
  },
  {
   "cell_type": "code",
   "execution_count": 21,
   "metadata": {},
   "outputs": [
    {
     "data": {
      "text/plain": [
       "'one'"
      ]
     },
     "execution_count": 21,
     "metadata": {},
     "output_type": "execute_result"
    }
   ],
   "source": [
    "list_array[0]"
   ]
  },
  {
   "cell_type": "code",
   "execution_count": 22,
   "metadata": {},
   "outputs": [
    {
     "data": {
      "text/plain": [
       "'Intro'"
      ]
     },
     "execution_count": 22,
     "metadata": {},
     "output_type": "execute_result"
    }
   ],
   "source": [
    "list_array[-1]"
   ]
  },
  {
   "cell_type": "markdown",
   "metadata": {},
   "source": [
    "Indexing or **Slicing** List"
   ]
  },
  {
   "cell_type": "markdown",
   "metadata": {},
   "source": [
    "```python\n",
    "start:end(exclusive):step\n",
    "```"
   ]
  },
  {
   "cell_type": "markdown",
   "metadata": {},
   "source": [
    "From first to second, all values"
   ]
  },
  {
   "cell_type": "code",
   "execution_count": 23,
   "metadata": {},
   "outputs": [
    {
     "data": {
      "text/plain": [
       "['one', 3, 4.0, 'Data', 'Science', 'Intro']"
      ]
     },
     "execution_count": 23,
     "metadata": {},
     "output_type": "execute_result"
    }
   ],
   "source": [
    "list_array"
   ]
  },
  {
   "cell_type": "markdown",
   "metadata": {},
   "source": [
    "From first to last, every two values"
   ]
  },
  {
   "cell_type": "code",
   "execution_count": 24,
   "metadata": {
    "ExecuteTime": {
     "end_time": "2021-02-22T00:30:22.373655Z",
     "start_time": "2021-02-22T00:30:22.362632Z"
    }
   },
   "outputs": [
    {
     "data": {
      "text/plain": [
       "['one', 4.0, 'Science']"
      ]
     },
     "execution_count": 24,
     "metadata": {},
     "output_type": "execute_result"
    }
   ],
   "source": [
    "list_array[0:-1:2]"
   ]
  },
  {
   "cell_type": "markdown",
   "metadata": {},
   "source": [
    "---"
   ]
  },
  {
   "cell_type": "markdown",
   "metadata": {},
   "source": [
    "#### Range"
   ]
  },
  {
   "cell_type": "code",
   "execution_count": 25,
   "metadata": {
    "ExecuteTime": {
     "end_time": "2021-02-21T23:42:18.138214Z",
     "start_time": "2021-02-21T23:42:18.133392Z"
    }
   },
   "outputs": [
    {
     "data": {
      "text/plain": [
       "range(0, 4)"
      ]
     },
     "execution_count": 25,
     "metadata": {},
     "output_type": "execute_result"
    }
   ],
   "source": [
    "range(4)"
   ]
  },
  {
   "cell_type": "code",
   "execution_count": 26,
   "metadata": {},
   "outputs": [
    {
     "data": {
      "text/plain": [
       "[0, 1, 2, 3]"
      ]
     },
     "execution_count": 26,
     "metadata": {},
     "output_type": "execute_result"
    }
   ],
   "source": [
    "list(range(4))"
   ]
  },
  {
   "cell_type": "code",
   "execution_count": 27,
   "metadata": {
    "ExecuteTime": {
     "end_time": "2021-02-21T23:42:18.147533Z",
     "start_time": "2021-02-21T23:42:18.140182Z"
    }
   },
   "outputs": [
    {
     "data": {
      "text/plain": [
       "[2, 3]"
      ]
     },
     "execution_count": 27,
     "metadata": {},
     "output_type": "execute_result"
    }
   ],
   "source": [
    "list(range(2, 4))"
   ]
  },
  {
   "cell_type": "markdown",
   "metadata": {},
   "source": [
    "---"
   ]
  },
  {
   "cell_type": "markdown",
   "metadata": {},
   "source": [
    "#### Tuples"
   ]
  },
  {
   "cell_type": "code",
   "execution_count": 28,
   "metadata": {
    "ExecuteTime": {
     "end_time": "2021-09-27T10:02:27.872718Z",
     "start_time": "2021-09-27T10:02:27.848657Z"
    }
   },
   "outputs": [
    {
     "data": {
      "text/plain": [
       "('one', 'two', 'three')"
      ]
     },
     "execution_count": 28,
     "metadata": {},
     "output_type": "execute_result"
    }
   ],
   "source": [
    "a_tuple = (\"one\", \"two\", \"three\")\n",
    "a_tuple"
   ]
  },
  {
   "cell_type": "markdown",
   "metadata": {},
   "source": [
    "Tuples are immutable! For example, if you try to update or delete one value it will return an error"
   ]
  },
  {
   "cell_type": "code",
   "execution_count": 29,
   "metadata": {
    "ExecuteTime": {
     "end_time": "2021-02-21T23:42:18.189695Z",
     "start_time": "2021-02-21T23:42:18.167998Z"
    }
   },
   "outputs": [
    {
     "ename": "TypeError",
     "evalue": "'tuple' object does not support item assignment",
     "output_type": "error",
     "traceback": [
      "\u001b[0;31m---------------------------------------------------------------------------\u001b[0m",
      "\u001b[0;31mTypeError\u001b[0m                                 Traceback (most recent call last)",
      "\u001b[0;32m/var/folders/68/1yhs6zgs209ghr0pnjvp0nzh0000gn/T/ipykernel_74754/1072919610.py\u001b[0m in \u001b[0;36m<module>\u001b[0;34m\u001b[0m\n\u001b[0;32m----> 1\u001b[0;31m \u001b[0ma_tuple\u001b[0m\u001b[0;34m[\u001b[0m\u001b[0;36m1\u001b[0m\u001b[0;34m]\u001b[0m \u001b[0;34m=\u001b[0m \u001b[0;34m\"hello\"\u001b[0m\u001b[0;34m\u001b[0m\u001b[0;34m\u001b[0m\u001b[0m\n\u001b[0m",
      "\u001b[0;31mTypeError\u001b[0m: 'tuple' object does not support item assignment"
     ]
    }
   ],
   "source": [
    "a_tuple[1] = \"hello\""
   ]
  },
  {
   "cell_type": "code",
   "execution_count": 30,
   "metadata": {
    "ExecuteTime": {
     "end_time": "2021-02-21T23:42:18.199056Z",
     "start_time": "2021-02-21T23:42:18.009Z"
    }
   },
   "outputs": [
    {
     "ename": "TypeError",
     "evalue": "'tuple' object doesn't support item deletion",
     "output_type": "error",
     "traceback": [
      "\u001b[0;31m---------------------------------------------------------------------------\u001b[0m",
      "\u001b[0;31mTypeError\u001b[0m                                 Traceback (most recent call last)",
      "\u001b[0;32m/var/folders/68/1yhs6zgs209ghr0pnjvp0nzh0000gn/T/ipykernel_74754/816708629.py\u001b[0m in \u001b[0;36m<module>\u001b[0;34m\u001b[0m\n\u001b[0;32m----> 1\u001b[0;31m \u001b[0;32mdel\u001b[0m \u001b[0ma_tuple\u001b[0m\u001b[0;34m[\u001b[0m\u001b[0;36m1\u001b[0m\u001b[0;34m]\u001b[0m\u001b[0;34m\u001b[0m\u001b[0;34m\u001b[0m\u001b[0m\n\u001b[0m",
      "\u001b[0;31mTypeError\u001b[0m: 'tuple' object doesn't support item deletion"
     ]
    }
   ],
   "source": [
    "del a_tuple[1]"
   ]
  },
  {
   "cell_type": "markdown",
   "metadata": {},
   "source": [
    "Adding elements to a tuple creates a new one"
   ]
  },
  {
   "cell_type": "code",
   "execution_count": null,
   "metadata": {
    "ExecuteTime": {
     "end_time": "2021-09-27T10:02:31.202564Z",
     "start_time": "2021-09-27T10:02:31.188789Z"
    }
   },
   "outputs": [],
   "source": [
    "a_second_tuple = a_tuple + (23,)\n",
    "a_second_tuple"
   ]
  },
  {
   "cell_type": "markdown",
   "metadata": {},
   "source": [
    "Memory address of each variable"
   ]
  },
  {
   "cell_type": "code",
   "execution_count": null,
   "metadata": {
    "ExecuteTime": {
     "end_time": "2021-09-27T10:02:36.430500Z",
     "start_time": "2021-09-27T10:02:36.425077Z"
    }
   },
   "outputs": [],
   "source": [
    "id(a_tuple)"
   ]
  },
  {
   "cell_type": "code",
   "execution_count": null,
   "metadata": {
    "ExecuteTime": {
     "end_time": "2021-09-27T10:02:36.614577Z",
     "start_time": "2021-09-27T10:02:36.603662Z"
    }
   },
   "outputs": [],
   "source": [
    "id(a_tuple + (23,))"
   ]
  },
  {
   "cell_type": "markdown",
   "metadata": {},
   "source": [
    "---"
   ]
  },
  {
   "cell_type": "markdown",
   "metadata": {},
   "source": [
    "### Mapping Types"
   ]
  },
  {
   "cell_type": "markdown",
   "metadata": {},
   "source": [
    "#### Dictionary"
   ]
  },
  {
   "cell_type": "markdown",
   "metadata": {},
   "source": [
    "A dictionary is a mapping object composed of *keys* and *values* and *keys* need to hashable (lists and dictionaries are not)\n",
    "\n",
    "For example `{'data': 0, 'science': 0}`\n"
   ]
  },
  {
   "cell_type": "code",
   "execution_count": null,
   "metadata": {
    "ExecuteTime": {
     "end_time": "2021-09-27T10:04:44.464112Z",
     "start_time": "2021-09-27T10:04:44.456573Z"
    }
   },
   "outputs": [],
   "source": [
    "a_dict = dict()\n",
    "a_dict"
   ]
  },
  {
   "cell_type": "code",
   "execution_count": null,
   "metadata": {
    "ExecuteTime": {
     "end_time": "2021-09-27T10:04:44.821792Z",
     "start_time": "2021-09-27T10:04:44.813193Z"
    }
   },
   "outputs": [],
   "source": [
    "a_dict = {}\n",
    "a_dict"
   ]
  },
  {
   "cell_type": "code",
   "execution_count": null,
   "metadata": {
    "ExecuteTime": {
     "end_time": "2021-09-27T10:04:45.417029Z",
     "start_time": "2021-09-27T10:04:45.410676Z"
    }
   },
   "outputs": [],
   "source": [
    "a_dict = {1: 2}\n",
    "a_dict"
   ]
  },
  {
   "cell_type": "code",
   "execution_count": null,
   "metadata": {
    "ExecuteTime": {
     "end_time": "2021-09-27T10:04:57.343014Z",
     "start_time": "2021-09-27T10:04:57.331928Z"
    }
   },
   "outputs": [],
   "source": [
    "type(a_dict)"
   ]
  },
  {
   "cell_type": "code",
   "execution_count": null,
   "metadata": {
    "ExecuteTime": {
     "end_time": "2021-09-27T10:04:57.669695Z",
     "start_time": "2021-09-27T10:04:57.661957Z"
    }
   },
   "outputs": [],
   "source": [
    "a_dict = {'data': 2, 1: 2, 'science': 4}\n",
    "a_dict"
   ]
  },
  {
   "cell_type": "markdown",
   "metadata": {},
   "source": [
    "Access the value of a key"
   ]
  },
  {
   "cell_type": "code",
   "execution_count": null,
   "metadata": {
    "ExecuteTime": {
     "end_time": "2021-09-27T10:05:03.595829Z",
     "start_time": "2021-09-27T10:05:03.587497Z"
    }
   },
   "outputs": [],
   "source": [
    "a_dict['data']"
   ]
  },
  {
   "cell_type": "markdown",
   "metadata": {},
   "source": [
    "Delete entry with the key ```data```"
   ]
  },
  {
   "cell_type": "code",
   "execution_count": null,
   "metadata": {
    "ExecuteTime": {
     "end_time": "2021-09-27T10:05:15.652502Z",
     "start_time": "2021-09-27T10:05:15.648686Z"
    }
   },
   "outputs": [],
   "source": [
    "del a_dict['data']"
   ]
  },
  {
   "cell_type": "code",
   "execution_count": null,
   "metadata": {
    "ExecuteTime": {
     "end_time": "2021-09-27T10:05:16.139345Z",
     "start_time": "2021-09-27T10:05:16.134033Z"
    }
   },
   "outputs": [],
   "source": [
    "a_dict"
   ]
  },
  {
   "cell_type": "markdown",
   "metadata": {},
   "source": [
    "---"
   ]
  },
  {
   "cell_type": "markdown",
   "metadata": {},
   "source": [
    "## Membership Operators"
   ]
  },
  {
   "cell_type": "code",
   "execution_count": null,
   "metadata": {
    "ExecuteTime": {
     "end_time": "2021-09-27T10:06:07.090468Z",
     "start_time": "2021-09-27T10:06:07.082554Z"
    },
    "scrolled": true
   },
   "outputs": [],
   "source": [
    "5.0 in [ 1, 2, 3, 4]"
   ]
  },
  {
   "cell_type": "code",
   "execution_count": 31,
   "metadata": {},
   "outputs": [
    {
     "data": {
      "text/plain": [
       "True"
      ]
     },
     "execution_count": 31,
     "metadata": {},
     "output_type": "execute_result"
    }
   ],
   "source": [
    "5.0 not in [ 1, 2, 3, 4]"
   ]
  },
  {
   "cell_type": "markdown",
   "metadata": {},
   "source": [
    "---"
   ]
  },
  {
   "cell_type": "markdown",
   "metadata": {},
   "source": [
    "## Control Flow Tools"
   ]
  },
  {
   "cell_type": "markdown",
   "metadata": {},
   "source": [
    "### For Statements"
   ]
  },
  {
   "cell_type": "markdown",
   "metadata": {},
   "source": [
    "```python\n",
    "for <var> in <iterable>:\n",
    "    <statement(s)>\n",
    "```"
   ]
  },
  {
   "cell_type": "markdown",
   "metadata": {},
   "source": [
    "`iterable` is a collection of objects—for example, a list or tuple. The `statement(s)` in the loop body are denoted by indentation, as with all Python control structures, and are executed once for each item in `iterable`. The loop variable `var` takes on the value of the next element in `iterable` each time through the loop."
   ]
  },
  {
   "cell_type": "code",
   "execution_count": 32,
   "metadata": {},
   "outputs": [
    {
     "name": "stdout",
     "output_type": "stream",
     "text": [
      "1\n",
      "2\n",
      "3\n",
      "4\n"
     ]
    }
   ],
   "source": [
    "for value in [1,2,3,4]:\n",
    "    print(value)"
   ]
  },
  {
   "cell_type": "markdown",
   "metadata": {},
   "source": [
    "#### range is often used as the iterable\n",
    "\n",
    "```python\n",
    "    for <var> in range(limit):\n",
    "        <statement(s)>\n",
    "```"
   ]
  },
  {
   "cell_type": "code",
   "execution_count": 33,
   "metadata": {},
   "outputs": [
    {
     "name": "stdout",
     "output_type": "stream",
     "text": [
      "0\n",
      "1\n",
      "2\n",
      "3\n",
      "4\n",
      "5\n"
     ]
    }
   ],
   "source": [
    "for value in range(len(list_array)):\n",
    "    print(value)"
   ]
  },
  {
   "cell_type": "markdown",
   "metadata": {},
   "source": [
    "### If Statements"
   ]
  },
  {
   "cell_type": "markdown",
   "metadata": {},
   "source": [
    "```python\n",
    "    if <expr>:\n",
    "        <statement>\n",
    "    elif <expr>:\n",
    "        <statement>\n",
    "    else:\n",
    "        <statement>\n",
    "```"
   ]
  },
  {
   "cell_type": "markdown",
   "metadata": {},
   "source": [
    "`expr` is an expression evaluated in a Boolean context\n",
    "    \n",
    "`statement` is a valid Python statement, which must be indented"
   ]
  },
  {
   "cell_type": "code",
   "execution_count": 34,
   "metadata": {},
   "outputs": [
    {
     "name": "stdout",
     "output_type": "stream",
     "text": [
      "2 <= 4\n"
     ]
    }
   ],
   "source": [
    "if 2 > 4:\n",
    "    print(\"2 > 4\")\n",
    "else:\n",
    "    print(\"2 <= 4\")"
   ]
  },
  {
   "cell_type": "markdown",
   "metadata": {},
   "source": [
    "### List Comprehensions"
   ]
  },
  {
   "cell_type": "markdown",
   "metadata": {},
   "source": [
    "Create lists with elements with a single statement\n",
    "\n",
    "```python\n",
    "[ expression for a_value in a_collection ]\n",
    "\n",
    "```"
   ]
  },
  {
   "cell_type": "code",
   "execution_count": 35,
   "metadata": {
    "ExecuteTime": {
     "end_time": "2021-02-22T00:12:13.216714Z",
     "start_time": "2021-02-22T00:12:13.208255Z"
    }
   },
   "outputs": [
    {
     "data": {
      "text/plain": [
       "[11, 12, 13, 14, 15]"
      ]
     },
     "execution_count": 35,
     "metadata": {},
     "output_type": "execute_result"
    }
   ],
   "source": [
    "[ a_value + 10 for a_value in [1,2,3,4,5] ]"
   ]
  },
  {
   "cell_type": "markdown",
   "metadata": {},
   "source": [
    "List comprehension with conditions\n",
    "\n",
    "```python\n",
    "[ expression for a_value in a_collection if condition ]\n",
    "\n",
    "```"
   ]
  },
  {
   "cell_type": "code",
   "execution_count": 36,
   "metadata": {
    "ExecuteTime": {
     "end_time": "2021-02-22T00:41:41.315234Z",
     "start_time": "2021-02-22T00:41:41.307939Z"
    }
   },
   "outputs": [
    {
     "data": {
      "text/plain": [
       "[13, 14, 15]"
      ]
     },
     "execution_count": 36,
     "metadata": {},
     "output_type": "execute_result"
    }
   ],
   "source": [
    "[ a_value + 10 for a_value in [1,2,3,4,5] if a_value >= 3 ]"
   ]
  },
  {
   "cell_type": "markdown",
   "metadata": {},
   "source": [
    "---"
   ]
  },
  {
   "cell_type": "markdown",
   "metadata": {},
   "source": [
    "## Functions"
   ]
  },
  {
   "cell_type": "code",
   "execution_count": 37,
   "metadata": {},
   "outputs": [],
   "source": [
    "def functionName(argument_one, argument_two):\n",
    "    \"\"\"\n",
    "    Comment what it does\n",
    "    \"\"\"\n",
    "    \n",
    "    \n",
    "    do_stuff\n",
    "    \n",
    "    return value\n"
   ]
  },
  {
   "cell_type": "code",
   "execution_count": 38,
   "metadata": {},
   "outputs": [],
   "source": [
    "functionName?"
   ]
  },
  {
   "cell_type": "markdown",
   "metadata": {},
   "source": [
    "### Call a function"
   ]
  },
  {
   "cell_type": "markdown",
   "metadata": {},
   "source": [
    "```python\n",
    "functionName(argument_one, argument_two)\n",
    "```"
   ]
  },
  {
   "cell_type": "code",
   "execution_count": 40,
   "metadata": {
    "ExecuteTime": {
     "end_time": "2021-02-21T23:42:18.243428Z",
     "start_time": "2021-02-21T23:42:18.080Z"
    }
   },
   "outputs": [],
   "source": [
    "def soma(x, y):\n",
    "    \"\"\"\n",
    "    Return the sum between x and y\n",
    "    \"\"\"\n",
    "\n",
    "    return x + y"
   ]
  },
  {
   "cell_type": "code",
   "execution_count": 41,
   "metadata": {
    "ExecuteTime": {
     "end_time": "2021-02-21T23:42:18.245678Z",
     "start_time": "2021-02-21T23:42:18.083Z"
    }
   },
   "outputs": [
    {
     "data": {
      "text/plain": [
       "6"
      ]
     },
     "execution_count": 41,
     "metadata": {},
     "output_type": "execute_result"
    }
   ],
   "source": [
    "soma(2, 4)"
   ]
  },
  {
   "cell_type": "markdown",
   "metadata": {},
   "source": [
    "### Built-in Functions\n",
    "\n",
    "We have already used some. But there are more:\n",
    "\n",
    "https://docs.python.org/3/library/functions.html"
   ]
  },
  {
   "cell_type": "markdown",
   "metadata": {},
   "source": [
    "## Code Standards"
   ]
  },
  {
   "cell_type": "markdown",
   "metadata": {},
   "source": [
    "[PEP 8: Function and Variable Names](https://www.python.org/dev/peps/pep-0008/#function-and-variable-names)  \n",
    "\n",
    "**Summary**\n",
    " - Use Snake case in functions and variables, lowercase with words separated by underscores as necessary to improve readability\n",
    "     - data_science  \n",
    "\n",
    "\n",
    " - For constants use all capital letters with underscores separating words\n",
    "     - DATA_SCIENCE  \n",
    "\n",
    "\n",
    " - Use CapWords convention for classes\n",
    "     - DataScience"
   ]
  },
  {
   "cell_type": "markdown",
   "metadata": {
    "id": "rC-2j2O6w8o8"
   },
   "source": [
    "# Challenges - Part I\n",
    "\n",
    "**Cosine similarity from scratch**\n",
    "\n",
    "\n",
    "## Question 1/6\n",
    "\n",
    "The dot product between two vectors $v1$ e $v2$ of size $n$ is defined as:\n",
    "\n",
    "$$\\sum_{i=1}^n v1_i . v2_i $$\n",
    "\n",
    "Create a `for` loop necessary to compute the dot product between any two vectors of the same size.\n",
    "\n"
   ]
  },
  {
   "cell_type": "code",
   "execution_count": 42,
   "metadata": {},
   "outputs": [
    {
     "name": "stdout",
     "output_type": "stream",
     "text": [
      "38\n"
     ]
    }
   ],
   "source": [
    "# SOLUTION 1\n",
    "\n",
    "v1 = [1,2,3,4]\n",
    "v2 = [3,2,5,4]\n",
    "\n",
    "dot_prod = 0\n",
    "for i in range(len(v1)):\n",
    "    dot_prod += v1[i]*v2[i]\n",
    "print(dot_prod)"
   ]
  },
  {
   "cell_type": "code",
   "execution_count": 43,
   "metadata": {
    "colab": {
     "base_uri": "https://localhost:8080/"
    },
    "id": "71CalRrKw-TJ",
    "outputId": "74bed61b-d1a6-4989-99c5-9239fd4e9b88"
   },
   "outputs": [
    {
     "name": "stdout",
     "output_type": "stream",
     "text": [
      "the dot product of both vectors is 38\n"
     ]
    }
   ],
   "source": [
    "# SOLUTION 2\n",
    "\n",
    "v1 = [1,2,3,4]\n",
    "v2 = [3,2,5,4]\n",
    "\n",
    "res = []\n",
    "if len(v1) == len(v2): # validar se os vetores são do mesmo tamanho\n",
    "    for i in range(len(v1)): # aqui utilizamos um ciclo for tradicional \n",
    "        res.append(v1[i]*v2[i])\n",
    "    res = sum(res)\n",
    "\n",
    "print('the dot product of both vectors is', res)    \n"
   ]
  },
  {
   "cell_type": "markdown",
   "metadata": {
    "id": "l40MIkKu0N2v"
   },
   "source": [
    "## Question 2/6\n",
    "\n",
    "Try using the built-in function `zip`. Pass vectors `v1` and `v2` as parameters.\n",
    "\n",
    "**Note.** `zip` produces an object of class `zip`, but we can cast it as a `list` using the built-in function `list()` on that object"
   ]
  },
  {
   "cell_type": "code",
   "execution_count": 44,
   "metadata": {
    "id": "pSufwTO8ygIJ"
   },
   "outputs": [
    {
     "data": {
      "text/plain": [
       "[(1, 3), (2, 2), (3, 5), (4, 4)]"
      ]
     },
     "execution_count": 44,
     "metadata": {},
     "output_type": "execute_result"
    }
   ],
   "source": [
    "# SOLUTION\n",
    "\n",
    "# defina uma variável x e instancie com a aplicação da função zip(v1,v2)\n",
    "\n",
    "x = zip(v1,v2)\n",
    "\n",
    "# aplique a função list à variável x para ver o conteúdo do resultado\n",
    "\n",
    "list(x)\n"
   ]
  },
  {
   "cell_type": "markdown",
   "metadata": {
    "id": "vlwN-22X1NHq"
   },
   "source": [
    "Based on the result obtained explain what the `zip`function does."
   ]
  },
  {
   "cell_type": "code",
   "execution_count": 45,
   "metadata": {},
   "outputs": [],
   "source": [
    "# your answer here"
   ]
  },
  {
   "cell_type": "code",
   "execution_count": 46,
   "metadata": {},
   "outputs": [],
   "source": [
    "# SOLUTION\n",
    "\n",
    "# zip cria uma lista de tuplos onde cada tuplo corresponde a nth componente de cada um dos vectores."
   ]
  },
  {
   "cell_type": "markdown",
   "metadata": {
    "id": "vlwN-22X1NHq"
   },
   "source": [
    "---\n",
    "## Question 3/6\n",
    "\n",
    "Try using the built-in funcion `zip()` to compute the dot product in single line of code.\n",
    "\n",
    "- **Hint 1:** use a list comprehension\n",
    "- **Hint 2:** use the built-in function `sum()` to obtain the sum of all values of a list"
   ]
  },
  {
   "cell_type": "code",
   "execution_count": 47,
   "metadata": {
    "colab": {
     "base_uri": "https://localhost:8080/"
    },
    "id": "kouVzfwHz2GQ",
    "outputId": "ba0d220a-6d4a-4d89-a704-5067904e6a2a"
   },
   "outputs": [
    {
     "data": {
      "text/plain": [
       "38"
      ]
     },
     "execution_count": 47,
     "metadata": {},
     "output_type": "execute_result"
    }
   ],
   "source": [
    "# SOLUTION\n",
    "\n",
    "if len(v1) == len(v2):\n",
    "  res = sum([item[0]*item[1] for item in zip(v1,v2)])\n",
    "else:\n",
    "  res = -1\n",
    "res"
   ]
  },
  {
   "cell_type": "markdown",
   "metadata": {
    "id": "8N7Gzg2R3T7_"
   },
   "source": [
    "---\n",
    "## Question 4/6\n",
    "\n",
    "The norm of a vector (its magnitude) is defined as:\n",
    "\n",
    "$$ \\lVert x \\rVert = \\sqrt{\\sum_{i=1}^n x_i^2}$$\n",
    "\n",
    "Write a for loop that computes a norm of a given vector $v$."
   ]
  },
  {
   "cell_type": "code",
   "execution_count": 48,
   "metadata": {},
   "outputs": [
    {
     "data": {
      "text/plain": [
       "5.477225575051661"
      ]
     },
     "execution_count": 48,
     "metadata": {},
     "output_type": "execute_result"
    }
   ],
   "source": [
    "# SOLUTION v1\n",
    "\n",
    "total = 0\n",
    "for item in range(len(v1)):\n",
    "    total += v1[item]**2\n",
    "total**0.5"
   ]
  },
  {
   "cell_type": "code",
   "execution_count": 49,
   "metadata": {
    "colab": {
     "base_uri": "https://localhost:8080/"
    },
    "id": "lVoWgZTe0CGm",
    "outputId": "b9628b08-8baf-487e-cc3c-adff42b04e34"
   },
   "outputs": [
    {
     "data": {
      "text/plain": [
       "5.477225575051661"
      ]
     },
     "execution_count": 49,
     "metadata": {},
     "output_type": "execute_result"
    }
   ],
   "source": [
    "# SOLUTION v2 - forma Pythonica\n",
    "\n",
    "import math\n",
    "\n",
    "v1 = [1,2,3,4]\n",
    "\n",
    "norm = math.sqrt(sum([item**2 for item in v1]))\n",
    "norm\n",
    "\n",
    "# list comprehension:\n",
    "# One of the language’s most distinctive features is the list comprehension, which you can use to create powerful\n",
    "# functionality within a single line of code.\n",
    "# TO DO..."
   ]
  },
  {
   "cell_type": "markdown",
   "metadata": {
    "id": "Vb12GvWP-g-A"
   },
   "source": [
    "## Question 5/6\n",
    "\n",
    "Recall how to create a funcion:\n",
    "\n",
    "```python\n",
    "def name_of_the_function(list of arguments):\n",
    "    do something\n",
    "    ...\n",
    "    return the_result\n",
    "```\n",
    "\n",
    "1. Define a function that computes the dot product of two vectors $v1$ e $v2$\n",
    "\n",
    "2. Define a function that computes the norm of a vector $v$\n"
   ]
  },
  {
   "cell_type": "code",
   "execution_count": 50,
   "metadata": {
    "id": "tHIzPKN14uU9"
   },
   "outputs": [],
   "source": [
    "# dot product\n",
    "\n",
    "def dot_product(v1, v2):\n",
    "    if len(v1) == len(v2):\n",
    "        res = sum([item[0]*item[1] for item in zip(v1,v2)])\n",
    "    else:\n",
    "        res = -1\n",
    "    return res\n",
    "\n",
    "\n",
    "\n",
    "# norm\n",
    "\n",
    "def norm_l2(v):\n",
    "    return math.sqrt(sum([item**2 for item in v])) "
   ]
  },
  {
   "cell_type": "code",
   "execution_count": 51,
   "metadata": {
    "colab": {
     "base_uri": "https://localhost:8080/"
    },
    "id": "Lz1e3hmB8ddP",
    "outputId": "08f6d642-5301-4419-80a5-ef4559c4c2ae"
   },
   "outputs": [
    {
     "data": {
      "text/plain": [
       "38"
      ]
     },
     "execution_count": 51,
     "metadata": {},
     "output_type": "execute_result"
    }
   ],
   "source": [
    "# Now that both funcions are defined, you can call them\n",
    "\n",
    "dot_product(v1, v2)"
   ]
  },
  {
   "cell_type": "code",
   "execution_count": 52,
   "metadata": {
    "colab": {
     "base_uri": "https://localhost:8080/"
    },
    "id": "Lz1e3hmB8ddP",
    "outputId": "08f6d642-5301-4419-80a5-ef4559c4c2ae"
   },
   "outputs": [
    {
     "data": {
      "text/plain": [
       "5.477225575051661"
      ]
     },
     "execution_count": 52,
     "metadata": {},
     "output_type": "execute_result"
    }
   ],
   "source": [
    "norm_l2(v1)"
   ]
  },
  {
   "cell_type": "code",
   "execution_count": 53,
   "metadata": {
    "colab": {
     "base_uri": "https://localhost:8080/"
    },
    "id": "Lz1e3hmB8ddP",
    "outputId": "08f6d642-5301-4419-80a5-ef4559c4c2ae"
   },
   "outputs": [
    {
     "data": {
      "text/plain": [
       "7.3484692283495345"
      ]
     },
     "execution_count": 53,
     "metadata": {},
     "output_type": "execute_result"
    }
   ],
   "source": [
    "norm_l2(v2)"
   ]
  },
  {
   "cell_type": "markdown",
   "metadata": {
    "id": "B5ZKUFsG_kzI"
   },
   "source": [
    "## Question 6/6\n",
    "\n",
    "In Data Science there is this famous measure of similarity called cosine similarity. \n",
    "\n",
    "Given two vectors $v1$ e $v2$, it is defined as:\n",
    "\n",
    "$$\n",
    "  cos(v1, v2) = \\frac{v1 . v2}{\\lVert v1 \\rVert \\times \\lVert v2 \\rVert}\n",
    "$$  \n",
    "\n",
    "Using the above functions, define a new one that computes this similarity.\n"
   ]
  },
  {
   "cell_type": "code",
   "execution_count": 54,
   "metadata": {
    "colab": {
     "base_uri": "https://localhost:8080/"
    },
    "id": "iJmEsbJ5AeyG",
    "outputId": "2414c36f-8a45-4137-a195-26d35cf6a4a7"
   },
   "outputs": [
    {
     "data": {
      "text/plain": [
       "0.9441175904999112"
      ]
     },
     "execution_count": 54,
     "metadata": {},
     "output_type": "execute_result"
    }
   ],
   "source": [
    "# SOLUTION\n",
    "\n",
    "def sim_cos(v1, v2):\n",
    "    return dot_product(v1,v2)/ (norm_l2(v1)*norm_l2(v2))\n",
    "\n",
    "sim_cos(v1, v2)\n",
    "  "
   ]
  },
  {
   "cell_type": "markdown",
   "metadata": {},
   "source": [
    "# Calculator Challenge\n",
    "Write a Python function that accepts three parameters.  \n",
    "- The first parameter is a numeric value.\n",
    "- The second is one of the following mathematical operators: +, -, /, or .\n",
    "- The third parameter will also be a numeric value\n",
    "\n",
    "The function should perform a calculation and return the results.\n",
    "\n",
    "For example, parameters `(2.5, '.', 3)` should return `7.5`."
   ]
  },
  {
   "cell_type": "code",
   "execution_count": 55,
   "metadata": {},
   "outputs": [],
   "source": [
    "# Solution\n",
    "\n",
    "def calculator(int1 :float, operation :str, int2:float):\n",
    "    \"\"\"\n",
    "    performs some calculation\n",
    "    \"\"\"\n",
    "    if operation == '+':\n",
    "        return int1+int2\n",
    "    elif operation == '-':\n",
    "        return int1-int2\n",
    "    elif operation == '/':\n",
    "        return int1/int2\n",
    "    else:\n",
    "        return int1*int2\n",
    "    "
   ]
  },
  {
   "cell_type": "markdown",
   "metadata": {
    "id": "qPbU_zKjGZOH"
   },
   "source": [
    "# Extra Challenges\n",
    "\n",
    "Write a list comprehension that filters an existing list of strings:\n",
    "\n",
    "1. firstly, the ones with more than four letters\n",
    "2. secondly, the ones with at least two different vowels\n",
    "3. all the above\n"
   ]
  },
  {
   "cell_type": "code",
   "execution_count": 56,
   "metadata": {},
   "outputs": [
    {
     "data": {
      "text/plain": [
       "['pyramid', 'quiet']"
      ]
     },
     "execution_count": 56,
     "metadata": {},
     "output_type": "execute_result"
    }
   ],
   "source": [
    "# Solution 1\n",
    "\n",
    "my_words = ['pyramid', 'car', 'quiet', 'data', 'read']\n",
    "\n",
    "[item for item in my_words if len(item) > 4]"
   ]
  },
  {
   "cell_type": "code",
   "execution_count": 57,
   "metadata": {
    "id": "dMMOlETnEHuj"
   },
   "outputs": [
    {
     "data": {
      "text/plain": [
       "2"
      ]
     },
     "execution_count": 57,
     "metadata": {},
     "output_type": "execute_result"
    }
   ],
   "source": [
    "# Solution 2 part 1\n",
    "\n",
    "def count_distinct_vowels(word):\n",
    "    vowels = ['a','e','i','o', 'u']\n",
    "    cnt = set([letter for letter in word if letter in vowels])\n",
    "    return len(cnt)\n",
    "\n",
    "count_distinct_vowels('pyramid')"
   ]
  },
  {
   "cell_type": "code",
   "execution_count": 58,
   "metadata": {
    "colab": {
     "base_uri": "https://localhost:8080/"
    },
    "id": "yEPiIJgQHYZz",
    "outputId": "d523c895-8643-4a35-e7f5-e2d2afb4d592"
   },
   "outputs": [
    {
     "data": {
      "text/plain": [
       "['pyramid', 'quiet', 'read']"
      ]
     },
     "execution_count": 58,
     "metadata": {},
     "output_type": "execute_result"
    }
   ],
   "source": [
    "# Solution 2 part 2\n",
    "\n",
    "[item for item in my_words if count_distinct_vowels(item) >= 2]"
   ]
  },
  {
   "cell_type": "code",
   "execution_count": 59,
   "metadata": {
    "id": "xjRZiL04Lkt5"
   },
   "outputs": [
    {
     "data": {
      "text/plain": [
       "['pyramid', 'quiet']"
      ]
     },
     "execution_count": 59,
     "metadata": {},
     "output_type": "execute_result"
    }
   ],
   "source": [
    "# Solution 3\n",
    "\n",
    "[item for item in my_words if len(item) > 4 and count_distinct_vowels(item) >= 2]"
   ]
  }
 ],
 "metadata": {
  "celltoolbar": "Edit Metadata",
  "colab": {
   "collapsed_sections": [],
   "name": "Python_Tutorial-1-final.ipynb",
   "provenance": [],
   "toc_visible": true
  },
  "kernelspec": {
   "display_name": "Python 3 (ipykernel)",
   "language": "python",
   "name": "python3"
  },
  "language_info": {
   "codemirror_mode": {
    "name": "ipython",
    "version": 3
   },
   "file_extension": ".py",
   "mimetype": "text/x-python",
   "name": "python",
   "nbconvert_exporter": "python",
   "pygments_lexer": "ipython3",
   "version": "3.9.7"
  }
 },
 "nbformat": 4,
 "nbformat_minor": 4
}
