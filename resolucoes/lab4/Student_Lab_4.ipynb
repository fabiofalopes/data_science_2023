{
  "nbformat": 4,
  "nbformat_minor": 0,
  "metadata": {
    "colab": {
      "provenance": [],
      "collapsed_sections": [
        "krXZiEM06jHK"
      ]
    },
    "kernelspec": {
      "name": "python3",
      "display_name": "Python 3"
    },
    "language_info": {
      "name": "python"
    }
  },
  "cells": [
    {
      "cell_type": "markdown",
      "source": [
        "# Practical Lab: Week 4\n",
        "\n",
        "Note: This practical session is based on the exercises in section 3.6.1 e 3.6.2."
      ],
      "metadata": {
        "id": "CX15zgJ15lF5"
      }
    },
    {
      "cell_type": "markdown",
      "source": [
        "First, let's install the packages that we will use in this lab\n",
        "\n",
        "For these exercises we use the numpy library in version 1.22, which is compatible with the ISLP library."
      ],
      "metadata": {
        "id": "sGVbeJXtwLIV"
      }
    },
    {
      "cell_type": "code",
      "source": [
        "!pip install --force-reinstall -v \"numpy==1.22\"\n",
        "!pip install ISLP"
      ],
      "metadata": {
        "id": "mYkmCHPkwBZP"
      },
      "execution_count": null,
      "outputs": []
    },
    {
      "cell_type": "markdown",
      "source": [
        "If you are using Google Colab, after installing the above packages, restart the terminal."
      ],
      "metadata": {
        "id": "3SHwiHaWwRHs"
      }
    },
    {
      "cell_type": "markdown",
      "source": [
        "## Part I: Simple Linear Regression"
      ],
      "metadata": {
        "id": "krXZiEM06jHK"
      }
    },
    {
      "cell_type": "markdown",
      "source": [
        "Imports of pandas, numpy, matplotlib and ISLP (responsible for the dataset)"
      ],
      "metadata": {
        "id": "phEy-AwX6v5I"
      }
    },
    {
      "cell_type": "code",
      "execution_count": 59,
      "metadata": {
        "id": "xKEzLG_mut17"
      },
      "outputs": [],
      "source": [
        "import numpy as np\n",
        "import pandas as pd\n",
        "from ISLP import load_data\n",
        "from matplotlib.pyplot import subplots"
      ]
    },
    {
      "cell_type": "markdown",
      "source": [
        "Also start the statsmodel library in which we use linear regression tuning for this exercise."
      ],
      "metadata": {
        "id": "HoSTsvVL6yTk"
      }
    },
    {
      "cell_type": "code",
      "source": [
        "import statsmodels.api as sm\n",
        "from ISLP.models import (ModelSpec as MS, summarize , poly)"
      ],
      "metadata": {
        "id": "t6D_PZOSvSw8"
      },
      "execution_count": 60,
      "outputs": []
    },
    {
      "cell_type": "markdown",
      "source": [
        "1 - Iniciation of \"Boston\" dataframe contained in the ISL library"
      ],
      "metadata": {
        "id": "8Onl_i4Wx08C"
      }
    },
    {
      "cell_type": "code",
      "source": [],
      "metadata": {
        "id": "tfoghKj-y7yw"
      },
      "execution_count": null,
      "outputs": []
    },
    {
      "cell_type": "markdown",
      "source": [
        "Knowing that:\n",
        "\n",
        "*   lstat - percent of households with low socioeconomic status\n",
        "*   medv - median house value\n",
        "\n",
        "\n",
        "\n",
        "\n",
        "2 - Create a scatterplot that relates `lstat` and `medv`"
      ],
      "metadata": {
        "id": "CesPhKdU2zuL"
      }
    },
    {
      "cell_type": "code",
      "source": [],
      "metadata": {
        "id": "JJs1HhGI25qI"
      },
      "execution_count": null,
      "outputs": []
    },
    {
      "cell_type": "markdown",
      "source": [
        "3 - Did we notice any relationship from analyzing the graph?"
      ],
      "metadata": {
        "id": "jajkuursOeQ6"
      }
    },
    {
      "cell_type": "code",
      "source": [],
      "metadata": {
        "id": "ZqrlC1I_OsPs"
      },
      "execution_count": null,
      "outputs": []
    },
    {
      "cell_type": "markdown",
      "source": [
        "We will build a regression model to predict medv using lstat:"
      ],
      "metadata": {
        "id": "s29fXrHg36S5"
      }
    },
    {
      "cell_type": "markdown",
      "source": [
        "3 - Create a dataframe(X) with two columns:\n",
        "\n",
        "intercept: with all values equal to 1 use `np.ones()`;\n",
        "\n",
        "lstat: Column with lstat values"
      ],
      "metadata": {
        "id": "jJZHGZYX2XBs"
      }
    },
    {
      "cell_type": "code",
      "source": [],
      "metadata": {
        "id": "byDCF3n2zfc3"
      },
      "execution_count": null,
      "outputs": []
    },
    {
      "cell_type": "markdown",
      "source": [
        "4 - Create a vector(y) that corresponds to the medv values"
      ],
      "metadata": {
        "id": "A0NEXqYr2aS0"
      }
    },
    {
      "cell_type": "code",
      "source": [],
      "metadata": {
        "id": "dp5pQzOg3QWd"
      },
      "execution_count": 64,
      "outputs": []
    },
    {
      "cell_type": "markdown",
      "source": [
        "5 - Use `sm.OLS` to create a model and the regression"
      ],
      "metadata": {
        "id": "MmRdvLFz4dNR"
      }
    },
    {
      "cell_type": "code",
      "source": [],
      "metadata": {
        "id": "DWjv9RvM4bnv"
      },
      "execution_count": 65,
      "outputs": []
    },
    {
      "cell_type": "markdown",
      "source": [
        "6 - Use summarize() to present the values and interpret them"
      ],
      "metadata": {
        "id": "ijadoPmh4uYQ"
      }
    },
    {
      "cell_type": "code",
      "source": [],
      "metadata": {
        "id": "TLGT-eW34SAO"
      },
      "execution_count": null,
      "outputs": []
    },
    {
      "cell_type": "markdown",
      "source": [
        "7 - Using MS (`ModelSpec()`) from the sm library, create a transform object from lstat, and then a pair of methods `transform()` and `fit()` are used to construct a corresponding model matrix."
      ],
      "metadata": {
        "id": "XOY01Qsv-NKe"
      }
    },
    {
      "cell_type": "code",
      "source": [
        "\n"
      ],
      "metadata": {
        "id": "9rGM76oK4WD3"
      },
      "execution_count": null,
      "outputs": []
    },
    {
      "cell_type": "markdown",
      "source": [
        "8 - Use `sm.OLS` to create a model and regression that relates y and X"
      ],
      "metadata": {
        "id": "JhBLHKg6AHmO"
      }
    },
    {
      "cell_type": "code",
      "source": [],
      "metadata": {
        "id": "xxQ0Tneb_Ljd"
      },
      "execution_count": 68,
      "outputs": []
    },
    {
      "cell_type": "markdown",
      "source": [
        "9 - Use `.summary()` to present the model results."
      ],
      "metadata": {
        "id": "9HwHw2pAAu2I"
      }
    },
    {
      "cell_type": "code",
      "source": [],
      "metadata": {
        "id": "IE-_uhzS_tih"
      },
      "execution_count": null,
      "outputs": []
    },
    {
      "cell_type": "markdown",
      "source": [
        "10 - Use `.params` to display the model results."
      ],
      "metadata": {
        "id": "rk5CinG0BMam"
      }
    },
    {
      "cell_type": "code",
      "source": [],
      "metadata": {
        "id": "lSPGor1g_v9y"
      },
      "execution_count": null,
      "outputs": []
    },
    {
      "cell_type": "markdown",
      "source": [
        "So we created a model. Now let's try to predict the values of medv given a value of lstat.\n",
        "\n",
        "11 - Create a new dataframe with the target values `'lstat':[5, 10, 15]`. Use `transform()`.\n",
        "\n"
      ],
      "metadata": {
        "id": "JW0EHh17C6Eb"
      }
    },
    {
      "cell_type": "code",
      "source": [],
      "metadata": {
        "id": "CH5KeComBJIX"
      },
      "execution_count": null,
      "outputs": []
    },
    {
      "cell_type": "markdown",
      "source": [
        "12 - Using the `get_prediction()` function, obtain the expected values for medv"
      ],
      "metadata": {
        "id": "DnqXqWS0DuUb"
      }
    },
    {
      "cell_type": "code",
      "source": [],
      "metadata": {
        "id": "28jT87HXDbam"
      },
      "execution_count": null,
      "outputs": []
    },
    {
      "cell_type": "markdown",
      "source": [
        "13 - Above we present the mean values. Now present the confidence interval and prediction intervals for each prediction (95%)."
      ],
      "metadata": {
        "id": "37iOKRwKEIV2"
      }
    },
    {
      "cell_type": "code",
      "source": [],
      "metadata": {
        "id": "2ZopBziaD_kv"
      },
      "execution_count": null,
      "outputs": []
    },
    {
      "cell_type": "markdown",
      "source": [
        "14 - Explain the results above"
      ],
      "metadata": {
        "id": "d6A74WOdQ-4W"
      }
    },
    {
      "cell_type": "markdown",
      "source": [
        "For instance, the 95% confidence interval associated with an lstat value of 10 is (24.47, 25.63), and the 95% prediction interval is (12.82, 37.28). As expected, the confidence and prediction intervals are centered around the same point (a predicted value of 25.05 for medv when lstat equals 10), but the latter are substantially wider."
      ],
      "metadata": {
        "id": "vcZfALCWFkbf"
      }
    },
    {
      "cell_type": "markdown",
      "source": [
        "15 - Desenhar uma reta no grafico final"
      ],
      "metadata": {
        "id": "iPA_IGiFJE8d"
      }
    },
    {
      "cell_type": "code",
      "source": [
        "\n"
      ],
      "metadata": {
        "id": "jSQ-awrJFYw0"
      },
      "execution_count": null,
      "outputs": []
    },
    {
      "cell_type": "markdown",
      "source": [
        "16 - Make a scatter plot of the fitted values and residual values"
      ],
      "metadata": {
        "id": "N5F6bB9QLV-h"
      }
    },
    {
      "cell_type": "code",
      "source": [],
      "metadata": {
        "id": "2oqoIR4FGQ2k"
      },
      "execution_count": null,
      "outputs": []
    },
    {
      "cell_type": "markdown",
      "source": [
        "16 - Make a graphical representation of the hat matrix"
      ],
      "metadata": {
        "id": "w5pOynLiTvnC"
      }
    },
    {
      "cell_type": "code",
      "source": [],
      "metadata": {
        "id": "IwSJIfZ1KdeJ"
      },
      "execution_count": null,
      "outputs": []
    },
    {
      "cell_type": "markdown",
      "source": [
        "## Part II: Regressao Linear Simples Continuacao"
      ],
      "metadata": {
        "id": "YhrFj06lXDBM"
      }
    },
    {
      "cell_type": "code",
      "source": [
        "import pandas as pd\n",
        "import numpy as np"
      ],
      "metadata": {
        "id": "f8KAWE16XGBy"
      },
      "execution_count": 77,
      "outputs": []
    },
    {
      "cell_type": "code",
      "source": [
        "Auto = pd.read_csv(\"./Auto.csv\")"
      ],
      "metadata": {
        "id": "xh1DFy6RXd3A"
      },
      "execution_count": 78,
      "outputs": []
    },
    {
      "cell_type": "markdown",
      "source": [
        "1 - Use the `sm.OLS(`) function to perform a simple linear regression with `mpg` as the response and `horsepower` as the predictor. Use the `summarize()` function to print the results. Comment on the output."
      ],
      "metadata": {
        "id": "T_aVd3eMXwqH"
      }
    },
    {
      "cell_type": "code",
      "source": [],
      "metadata": {
        "id": "M18Cg-wdawoZ"
      },
      "execution_count": null,
      "outputs": []
    },
    {
      "cell_type": "markdown",
      "source": [
        "2 - Is there a relationship between the predictor and the response?"
      ],
      "metadata": {
        "id": "lPYTKW1Hf9C-"
      }
    },
    {
      "cell_type": "code",
      "source": [],
      "metadata": {
        "id": "QcY86mqSfo3H"
      },
      "execution_count": null,
      "outputs": []
    },
    {
      "cell_type": "markdown",
      "source": [
        "3 - How strong is the relationship between the predictor and the response?"
      ],
      "metadata": {
        "id": "aldmRDRmgAHU"
      }
    },
    {
      "cell_type": "code",
      "source": [],
      "metadata": {
        "id": "_6aMun8lgAd_"
      },
      "execution_count": null,
      "outputs": []
    },
    {
      "cell_type": "markdown",
      "source": [
        "4 - Is the relationship between the predictor and the response positive or negative?"
      ],
      "metadata": {
        "id": "nhXyeGejgCCO"
      }
    },
    {
      "cell_type": "code",
      "source": [],
      "metadata": {
        "id": "LYbWuiDUgCYC"
      },
      "execution_count": null,
      "outputs": []
    },
    {
      "cell_type": "markdown",
      "source": [
        "5 - What is the predicted mpg associated with a horsepower of 98? What are the associated 95 % confidence and prediction intervals?"
      ],
      "metadata": {
        "id": "bo9sv2P8gEK9"
      }
    },
    {
      "cell_type": "code",
      "source": [],
      "metadata": {
        "id": "9Xl_ammAgEk_"
      },
      "execution_count": null,
      "outputs": []
    },
    {
      "cell_type": "markdown",
      "source": [
        "6 - Plot the response and the predictor in a new set of axes ax. Display the least squares regression line."
      ],
      "metadata": {
        "id": "eeF4A-cFW1VR"
      }
    },
    {
      "cell_type": "code",
      "source": [],
      "metadata": {
        "id": "q0mQkd2dVhhn"
      },
      "execution_count": null,
      "outputs": []
    },
    {
      "cell_type": "markdown",
      "source": [
        "7 - Produce some of diagnostic plots of the least squares regression fit as described in the lab. Comment on any problems you see with the fit."
      ],
      "metadata": {
        "id": "QoupMOo-XMYS"
      }
    },
    {
      "cell_type": "code",
      "source": [],
      "metadata": {
        "id": "fRTTdHQ0WDCE"
      },
      "execution_count": null,
      "outputs": []
    }
  ]
}